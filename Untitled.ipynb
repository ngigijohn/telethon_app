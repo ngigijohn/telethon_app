{
  "cells": [
    {
      "cell_type": "markdown",
      "metadata": {
        "id": "view-in-github",
        "colab_type": "text"
      },
      "source": [
        "<a href=\"https://colab.research.google.com/github/ngigijohn/weatheapp/blob/master/Untitled.ipynb\" target=\"_parent\"><img src=\"https://colab.research.google.com/assets/colab-badge.svg\" alt=\"Open In Colab\"/></a>"
      ]
    },
    {
      "cell_type": "code",
      "execution_count": null,
      "metadata": {
        "colab": {
          "base_uri": "https://localhost:8080/"
        },
        "id": "gNIlJZeEJwIw",
        "outputId": "f4364668-14bf-4d3d-c6c3-84079a89e607"
      },
      "outputs": [
        {
          "name": "stdout",
          "output_type": "stream",
          "text": [
            "Requirement already satisfied: telethon in /usr/local/lib/python3.7/dist-packages (1.24.0)\n",
            "Requirement already satisfied: pyaes in /usr/local/lib/python3.7/dist-packages (from telethon) (1.6.1)\n",
            "Requirement already satisfied: rsa in /usr/local/lib/python3.7/dist-packages (from telethon) (4.8)\n",
            "Requirement already satisfied: pyasn1>=0.1.3 in /usr/local/lib/python3.7/dist-packages (from rsa->telethon) (0.4.8)\n"
          ]
        }
      ],
      "source": [
        "!pip install telethon\n",
        "import telethon"
      ]
    },
    {
      "cell_type": "code",
      "execution_count": null,
      "metadata": {
        "colab": {
          "base_uri": "https://localhost:8080/"
        },
        "id": "i8hrGwTvKtLe",
        "outputId": "abbe9a6d-8cf7-44b6-c2dc-9eba1501ae6c"
      },
      "outputs": [
        {
          "name": "stdout",
          "output_type": "stream",
          "text": [
            "[Errno 2] No such file or directory: 'telethon_app'\n",
            "/content/telethon_app\n"
          ]
        }
      ],
      "source": [
        "cd telethon_app"
      ]
    },
    {
      "cell_type": "code",
      "execution_count": null,
      "metadata": {
        "colab": {
          "base_uri": "https://localhost:8080/"
        },
        "id": "6UHNNClwLANa",
        "outputId": "f7c5ab45-05d7-4a8f-8c26-d60f569ab873"
      },
      "outputs": [
        {
          "name": "stdout",
          "output_type": "stream",
          "text": [
            " contacts.py  'Engineer John Ngigi.vcf'   main.py   name.session   \u001b[0m\u001b[01;34m__pycache__\u001b[0m/\n"
          ]
        }
      ],
      "source": [
        "ls"
      ]
    },
    {
      "cell_type": "code",
      "execution_count": null,
      "metadata": {
        "colab": {
          "base_uri": "https://localhost:8080/"
        },
        "id": "agRia5UqReKx",
        "outputId": "08a3ca17-827f-4055-afba-a0a63f4b1449"
      },
      "outputs": [
        {
          "name": "stdout",
          "output_type": "stream",
          "text": [
            "/content/telethon_app\n"
          ]
        }
      ],
      "source": [
        "cd telethon_app"
      ]
    },
    {
      "cell_type": "code",
      "execution_count": null,
      "metadata": {
        "colab": {
          "base_uri": "https://localhost:8080/"
        },
        "id": "Cjv96MZvLDyO",
        "outputId": "1b361f3a-9dc5-4b3d-90f4-5f39386d3bd5"
      },
      "outputs": [
        {
          "output_type": "stream",
          "name": "stdout",
          "text": [
            "python3: can't open file 'main.py': [Errno 2] No such file or directory\n"
          ]
        }
      ],
      "source": [
        "!python main.py"
      ]
    }
  ],
  "metadata": {
    "colab": {
      "collapsed_sections": [],
      "name": "Untitled",
      "provenance": [],
      "authorship_tag": "ABX9TyMb37q4JxGoPz7W7xKLaiqW",
      "include_colab_link": true
    },
    "kernelspec": {
      "display_name": "Python 3",
      "name": "python3"
    },
    "language_info": {
      "name": "python"
    }
  },
  "nbformat": 4,
  "nbformat_minor": 0
}